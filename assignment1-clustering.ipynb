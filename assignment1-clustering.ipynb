{
 "cells": [
  {
   "cell_type": "markdown",
   "metadata": {},
   "source": [
    "## Assignment 1"
   ]
  },
  {
   "cell_type": "markdown",
   "metadata": {},
   "source": [
    "1)Suppose that the data mining task is to cluster the following eight points (with (x, y) representing location) into three clusters:\n",
    "\n",
    "A1(2, 10), A2(2, 5), A3(8, 4), B1(5, 8), B2(7, 5), B3(6, 4), C1(1, 2), C2(4, 9):\n",
    "\n",
    "The distance function is Euclidean distance. Suppose initially we assign A1, B1, and C1 as the center of each cluster, respectively. Use the k-means algorithm to show only\n",
    "\n",
    "(a) The three cluster centers after the first round execution\n",
    "\n",
    "(b) The final three clusters"
   ]
  },
  {
   "cell_type": "code",
   "execution_count": 1,
   "metadata": {
    "ExecuteTime": {
     "end_time": "2020-09-18T17:20:23.483480Z",
     "start_time": "2020-09-18T17:20:23.179927Z"
    }
   },
   "outputs": [],
   "source": [
    "# import libraries for data store and graph plotting\n",
    "import numpy as np\n",
    "import matplotlib.pyplot as plt\n",
    "from matplotlib import style\n",
    "\n",
    "style.use('ggplot')"
   ]
  },
  {
   "cell_type": "code",
   "execution_count": 2,
   "metadata": {
    "ExecuteTime": {
     "end_time": "2020-09-18T17:20:23.817418Z",
     "start_time": "2020-09-18T17:20:23.584703Z"
    }
   },
   "outputs": [
    {
     "data": {
      "image/png": "[encoded data removed]",
      "text/plain": [
       "<Figure size 432x288 with 1 Axes>"
      ]
     },
     "metadata": {},
     "output_type": "display_data"
    }
   ],
   "source": [
    "# create the input data\n",
    "X = np.array([[2,10],\n",
    "              [2,5],\n",
    "              [8,4],\n",
    "              [5,8],\n",
    "              [7,5],\n",
    "              [6,4],\n",
    "              [1,2],\n",
    "              [4,9]])\n",
    "\n",
    "# plot current input data\n",
    "plt.scatter(X[:,0], X[:,1], c='black')\n",
    "plt.show()"
   ]
  },
  {
   "cell_type": "code",
   "execution_count": 3,
   "metadata": {
    "ExecuteTime": {
     "end_time": "2020-09-18T17:20:27.093545Z",
     "start_time": "2020-09-18T17:20:26.892265Z"
    }
   },
   "outputs": [
    {
     "data": {
      "image/png": "[encoded data removed]",
      "text/plain": [
       "<Figure size 432x288 with 1 Axes>"
      ]
     },
     "metadata": {},
     "output_type": "display_data"
    }
   ],
   "source": [
    "# create the input data\n",
    "X = np.array([[2,10],\n",
    "              [2,5],\n",
    "              [8,4],\n",
    "              [5,8],\n",
    "              [7,5],\n",
    "              [6,4],\n",
    "              [1,2],\n",
    "              [4,9]])\n",
    "\n",
    "centroids = np.array([[2,10],\n",
    "              [5,8],\n",
    "              [1,2]])\n",
    "\n",
    "# plot current input data with centroids\n",
    "plt.scatter(X[:,0], X[:,1], c='black')\n",
    "plt.scatter(centroids[:,0], centroids[:,1], c='red', s=150, marker='x')\n",
    "plt.show()"
   ]
  },
  {
   "cell_type": "code",
   "execution_count": 4,
   "metadata": {
    "ExecuteTime": {
     "end_time": "2020-09-18T17:20:30.332569Z",
     "start_time": "2020-09-18T17:20:30.318963Z"
    }
   },
   "outputs": [],
   "source": [
    "class KMeans:\n",
    "    def __init__(self, k=3, tolerance=0, max_iterations=500):\n",
    "        self.k = k # no. of clusters\n",
    "        self.tolerance = tolerance # tolerance set to 0. Small dataset\n",
    "        self.max_iterations = max_iterations # no. of times the code will run\n",
    "    \n",
    "    def calc_distance(self, X1, X2):\n",
    "        # calculate euclidean distance\n",
    "        return (sum((X1 - X2)**2))**0.5\n",
    "    \n",
    "    def fit(self, data, centroids):\n",
    "        self.centroids = {}\n",
    "        # initialize the centroids, using the provided input\n",
    "        for i in range(self.k):\n",
    "            self.centroids[i] = centroids[i]\n",
    "            \n",
    "        # begin iterations\n",
    "        for i in range(self.max_iterations):\n",
    "            self.classes = {}\n",
    "            for i in range(self.k):\n",
    "                self.classes[i] = []\n",
    "                \n",
    "            # find the distance between the point and the cluster\n",
    "            # choose the nearest centroid\n",
    "            for features in data:\n",
    "                distances = [self.calc_distance(features, self.centroids[centroid]) for centroid in self.centroids]\n",
    "                classification = distances.index(min(distances))\n",
    "                self.classes[classification].append(features)\n",
    "                \n",
    "            previous = dict(self.centroids)\n",
    "            \n",
    "            # take the average of the cluster datapoints\n",
    "            # recalculate the centroids\n",
    "            for classification in self.classes:\n",
    "                self.centroids[classification] = np.average(self.classes[classification], axis=0)\n",
    "                \n",
    "            isOptimal = True\n",
    "            for centroid in self.centroids:\n",
    "                original_centroid = previous[centroid]\n",
    "                curr = self.centroids[centroid]\n",
    "                if np.sum((curr - original_centroid)/original_centroid * 100.0) > self.tolerance:\n",
    "                    isOptimal = False\n",
    "\n",
    "            # break out of the main loop if the results are optimal\n",
    "            # ie. the centroids don't change their positions much(more than our tolerance)\n",
    "            if isOptimal:\n",
    "                break\n",
    "               "
   ]
  },
  {
   "cell_type": "code",
   "execution_count": 5,
   "metadata": {
    "ExecuteTime": {
     "end_time": "2020-09-18T17:20:31.028856Z",
     "start_time": "2020-09-18T17:20:31.022149Z"
    }
   },
   "outputs": [],
   "source": [
    "def plot_graph(km):\n",
    "    colors = 10*[\"r\", \"g\", \"c\", \"b\", \"k\"]\n",
    "    for centroid in km.centroids:\n",
    "        plt.scatter(km.centroids[centroid][0], km.centroids[centroid][1], s=130, marker='x')\n",
    "    for classification in km.classes:\n",
    "        color = colors[classification]\n",
    "        for features in km.classes[classification]:\n",
    "            plt.scatter(features[0], features[1], color=color, s=30)\n",
    "    plt.show()"
   ]
  },
  {
   "cell_type": "code",
   "execution_count": 6,
   "metadata": {
    "ExecuteTime": {
     "end_time": "2020-09-18T17:20:33.792760Z",
     "start_time": "2020-09-18T17:20:33.536869Z"
    }
   },
   "outputs": [
    {
     "data": {
      "image/png": "[encoded data removed]",
      "text/plain": [
       "<Figure size 432x288 with 1 Axes>"
      ]
     },
     "metadata": {},
     "output_type": "display_data"
    },
    {
     "name": "stdout",
     "output_type": "stream",
     "text": [
      "[ 2. 10.]\n",
      "[6. 6.]\n",
      "[1.5 3.5]\n"
     ]
    }
   ],
   "source": [
    "# solves (a) run for only one iteration\n",
    "km = KMeans(3,0,1)\n",
    "centroids = np.array([[2,10],\n",
    "              [5,8],\n",
    "              [1,2]])\n",
    "km.fit(X, centroids)\n",
    "\n",
    "plot_graph(km)\n",
    "for centroid in km.centroids:\n",
    "    print(km.centroids[centroid])"
   ]
  },
  {
   "cell_type": "code",
   "execution_count": 7,
   "metadata": {
    "ExecuteTime": {
     "end_time": "2020-09-18T17:20:36.922184Z",
     "start_time": "2020-09-18T17:20:36.669215Z"
    }
   },
   "outputs": [
    {
     "data": {
      "image/png": "[encoded data removed]",
      "text/plain": [
       "<Figure size 432x288 with 1 Axes>"
      ]
     },
     "metadata": {},
     "output_type": "display_data"
    },
    {
     "name": "stdout",
     "output_type": "stream",
     "text": [
      "[3.66666667 9.        ]\n",
      "[7.         4.33333333]\n",
      "[1.5 3.5]\n"
     ]
    }
   ],
   "source": [
    "# solves (b)\n",
    "km = KMeans(3)\n",
    "centroids = np.array([[2,10],\n",
    "              [5,8],\n",
    "              [1,2]])\n",
    "km.fit(X, centroids)\n",
    "\n",
    "plot_graph(km)\n",
    "for centroid in km.centroids:\n",
    "    print(km.centroids[centroid])"
   ]
  }
 ],
 "metadata": {
  "kernelspec": {
   "display_name": "Python 3",
   "language": "python",
   "name": "python3"
  },
  "language_info": {
   "codemirror_mode": {
    "name": "ipython",
    "version": 3
   },
   "file_extension": ".py",
   "mimetype": "text/x-python",
   "name": "python",
   "nbconvert_exporter": "python",
   "pygments_lexer": "ipython3",
   "version": "3.8.5"
  }
 },
 "nbformat": 4,
 "nbformat_minor": 4
}
